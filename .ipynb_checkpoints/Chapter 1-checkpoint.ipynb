{
 "cells": [
  {
   "cell_type": "markdown",
   "id": "73369871",
   "metadata": {},
   "source": [
    "# Chapter 01- Exploratory Data Analysis\n",
    "\n",
    "Dataset Link : https://www.kaggle.com/datasets/arjunprasadsarkhel/2021-olympics-in-tokyo"
   ]
  },
  {
   "cell_type": "code",
   "execution_count": 1,
   "id": "9913aa87",
   "metadata": {},
   "outputs": [],
   "source": [
    "import pandas as pd\n",
    "import numpy as np\n"
   ]
  },
  {
   "cell_type": "code",
   "execution_count": 2,
   "id": "37da1f74",
   "metadata": {},
   "outputs": [
    {
     "name": "stderr",
     "output_type": "stream",
     "text": [
      "C:\\Users\\ADMIN\\AppData\\Local\\Programs\\Python\\Python311\\Lib\\site-packages\\openpyxl\\styles\\stylesheet.py:226: UserWarning: Workbook contains no default style, apply openpyxl's default\n",
      "  warn(\"Workbook contains no default style, apply openpyxl's default\")\n"
     ]
    }
   ],
   "source": [
    "data = pd.read_excel('Data/Medals.xlsx')"
   ]
  },
  {
   "cell_type": "code",
   "execution_count": 3,
   "id": "1d51e0cc",
   "metadata": {},
   "outputs": [
    {
     "data": {
      "text/html": [
       "<div>\n",
       "<style scoped>\n",
       "    .dataframe tbody tr th:only-of-type {\n",
       "        vertical-align: middle;\n",
       "    }\n",
       "\n",
       "    .dataframe tbody tr th {\n",
       "        vertical-align: top;\n",
       "    }\n",
       "\n",
       "    .dataframe thead th {\n",
       "        text-align: right;\n",
       "    }\n",
       "</style>\n",
       "<table border=\"1\" class=\"dataframe\">\n",
       "  <thead>\n",
       "    <tr style=\"text-align: right;\">\n",
       "      <th></th>\n",
       "      <th>Rank</th>\n",
       "      <th>Team/NOC</th>\n",
       "      <th>Gold</th>\n",
       "      <th>Silver</th>\n",
       "      <th>Bronze</th>\n",
       "      <th>Total</th>\n",
       "      <th>Rank by Total</th>\n",
       "    </tr>\n",
       "  </thead>\n",
       "  <tbody>\n",
       "    <tr>\n",
       "      <th>0</th>\n",
       "      <td>1</td>\n",
       "      <td>United States of America</td>\n",
       "      <td>39</td>\n",
       "      <td>41</td>\n",
       "      <td>33</td>\n",
       "      <td>113</td>\n",
       "      <td>1</td>\n",
       "    </tr>\n",
       "    <tr>\n",
       "      <th>1</th>\n",
       "      <td>2</td>\n",
       "      <td>People's Republic of China</td>\n",
       "      <td>38</td>\n",
       "      <td>32</td>\n",
       "      <td>18</td>\n",
       "      <td>88</td>\n",
       "      <td>2</td>\n",
       "    </tr>\n",
       "    <tr>\n",
       "      <th>2</th>\n",
       "      <td>3</td>\n",
       "      <td>Japan</td>\n",
       "      <td>27</td>\n",
       "      <td>14</td>\n",
       "      <td>17</td>\n",
       "      <td>58</td>\n",
       "      <td>5</td>\n",
       "    </tr>\n",
       "    <tr>\n",
       "      <th>3</th>\n",
       "      <td>4</td>\n",
       "      <td>Great Britain</td>\n",
       "      <td>22</td>\n",
       "      <td>21</td>\n",
       "      <td>22</td>\n",
       "      <td>65</td>\n",
       "      <td>4</td>\n",
       "    </tr>\n",
       "    <tr>\n",
       "      <th>4</th>\n",
       "      <td>5</td>\n",
       "      <td>ROC</td>\n",
       "      <td>20</td>\n",
       "      <td>28</td>\n",
       "      <td>23</td>\n",
       "      <td>71</td>\n",
       "      <td>3</td>\n",
       "    </tr>\n",
       "  </tbody>\n",
       "</table>\n",
       "</div>"
      ],
      "text/plain": [
       "   Rank                    Team/NOC  Gold  Silver  Bronze  Total  \\\n",
       "0     1    United States of America    39      41      33    113   \n",
       "1     2  People's Republic of China    38      32      18     88   \n",
       "2     3                       Japan    27      14      17     58   \n",
       "3     4               Great Britain    22      21      22     65   \n",
       "4     5                         ROC    20      28      23     71   \n",
       "\n",
       "   Rank by Total  \n",
       "0              1  \n",
       "1              2  \n",
       "2              5  \n",
       "3              4  \n",
       "4              3  "
      ]
     },
     "execution_count": 3,
     "metadata": {},
     "output_type": "execute_result"
    }
   ],
   "source": [
    "data.head()"
   ]
  },
  {
   "cell_type": "markdown",
   "id": "7db0c7e8",
   "metadata": {},
   "source": [
    "## Estimates of Location"
   ]
  },
  {
   "cell_type": "markdown",
   "id": "49e7b122",
   "metadata": {},
   "source": [
    "**Mean (Average)**:\n",
    "The mean or average is the sum of all values in a dataset divided by the total number of values. It gives you a measure of the central tendency of the data.\n",
    "- Mean is sensitive to Outliers"
   ]
  },
  {
   "cell_type": "code",
   "execution_count": 4,
   "id": "9eeff544",
   "metadata": {},
   "outputs": [
    {
     "data": {
      "text/plain": [
       "11.612903225806452"
      ]
     },
     "execution_count": 4,
     "metadata": {},
     "output_type": "execute_result"
    }
   ],
   "source": [
    "# Mean\n",
    "data['Total'].mean()"
   ]
  },
  {
   "cell_type": "markdown",
   "id": "a0a1f0b7",
   "metadata": {},
   "source": [
    "**Weighted Mean (Weighted Average)**:\n",
    "The weighted mean is similar to the mean, but each value is multiplied by a weight before calculating the average. The weights represent the importance or significance of each value."
   ]
  },
  {
   "cell_type": "code",
   "execution_count": 5,
   "id": "067217f4",
   "metadata": {},
   "outputs": [
    {
     "data": {
      "text/plain": [
       "46.832352941176474"
      ]
     },
     "execution_count": 5,
     "metadata": {},
     "output_type": "execute_result"
    }
   ],
   "source": [
    "#Weighted Mean\n",
    "\n",
    "np.average(data['Total'],weights=data['Gold'])"
   ]
  },
  {
   "cell_type": "markdown",
   "id": "8c2ca405",
   "metadata": {},
   "source": [
    "**Trimmed Mean (Truncated Mean)**:\n",
    "The trimmed mean is the average of all values after removing a fixed number or percentage of extreme values from both ends of the dataset. It is used to reduce the impact of outliers on the mean."
   ]
  },
  {
   "cell_type": "code",
   "execution_count": 6,
   "id": "b34b5731",
   "metadata": {},
   "outputs": [
    {
     "data": {
      "text/plain": [
       "6.8933333333333335"
      ]
     },
     "execution_count": 6,
     "metadata": {},
     "output_type": "execute_result"
    }
   ],
   "source": [
    "#Trimmed Mean\n",
    "from scipy.stats import trim_mean\n",
    "trim_mean(data['Total'],0.1)"
   ]
  },
  {
   "cell_type": "markdown",
   "id": "07484149",
   "metadata": {},
   "source": [
    "**Robust** : obust refers to a statistical measure or method that is not sensitive to extreme values or outliers. It provides more stable and reliable results even in the presence of outliers."
   ]
  },
  {
   "cell_type": "markdown",
   "id": "905e39b7",
   "metadata": {},
   "source": [
    "**Median**:\n",
    "The median is the middle value of a dataset when it is sorted in ascending or descending order. It divides the data into two equal halves. If the number of values is even, the median is the average of the two middle values."
   ]
  },
  {
   "cell_type": "code",
   "execution_count": 7,
   "id": "2a6b2f4d",
   "metadata": {},
   "outputs": [
    {
     "data": {
      "text/plain": [
       "4.0"
      ]
     },
     "execution_count": 7,
     "metadata": {},
     "output_type": "execute_result"
    }
   ],
   "source": [
    "#Median \n",
    "data['Total'].median()"
   ]
  },
  {
   "cell_type": "markdown",
   "id": "22f6b909",
   "metadata": {},
   "source": [
    "**Weighted Median**:\n",
    "The weighted median is similar to the median, but it takes into account the weights assigned to each value. It is the value such that half of the sum of the weights lies above and below the sorted data."
   ]
  },
  {
   "cell_type": "code",
   "execution_count": 8,
   "id": "2a0a27d3",
   "metadata": {},
   "outputs": [
    {
     "name": "stdout",
     "output_type": "stream",
     "text": [
      "40\n"
     ]
    }
   ],
   "source": [
    "# Weighted Median\n",
    "\n",
    "def weighted_median(data, weights):\n",
    "    sorted_data, sorted_weights = zip(*sorted(zip(data, weights)))\n",
    "    cum_weights = np.cumsum(sorted_weights)\n",
    "    total_weight = cum_weights[-1]\n",
    "    median_idx = np.searchsorted(cum_weights, total_weight / 2.0)\n",
    "    if total_weight % 2 == 0 or cum_weights[median_idx] > total_weight / 2.0:\n",
    "        return sorted_data[median_idx]\n",
    "    else:\n",
    "        return (sorted_data[median_idx] + sorted_data[median_idx + 1]) / 2.0\n",
    "\n",
    "result = weighted_median(data['Total'], data['Gold'])\n",
    "print(result)\n"
   ]
  },
  {
   "cell_type": "markdown",
   "id": "ddf1c95c",
   "metadata": {},
   "source": [
    "**Percentile (Quantile)**:\n",
    "The percentile is the value below which a given percentage of the data falls. For example, the 50th percentile is the median, which divides the data into two equal parts."
   ]
  },
  {
   "cell_type": "code",
   "execution_count": 9,
   "id": "2b6fbec3",
   "metadata": {},
   "outputs": [
    {
     "data": {
      "text/plain": [
       "11.0"
      ]
     },
     "execution_count": 9,
     "metadata": {},
     "output_type": "execute_result"
    }
   ],
   "source": [
    "#Percentile\n",
    "# 75th percentile\n",
    "np.percentile(data['Total'], 75)"
   ]
  },
  {
   "cell_type": "markdown",
   "id": "0773feb6",
   "metadata": {},
   "source": [
    "**Outlier (Extreme Value)**:\n",
    "An outlier or extreme value is a data point that is significantly different from the other values in a dataset. It is an observation that lies an abnormal distance away from other observations. Outliers can sometimes skew the results of statistical analysis."
   ]
  },
  {
   "cell_type": "code",
   "execution_count": 10,
   "id": "5afb5342",
   "metadata": {},
   "outputs": [
    {
     "data": {
      "text/html": [
       "<div>\n",
       "<style scoped>\n",
       "    .dataframe tbody tr th:only-of-type {\n",
       "        vertical-align: middle;\n",
       "    }\n",
       "\n",
       "    .dataframe tbody tr th {\n",
       "        vertical-align: top;\n",
       "    }\n",
       "\n",
       "    .dataframe thead th {\n",
       "        text-align: right;\n",
       "    }\n",
       "</style>\n",
       "<table border=\"1\" class=\"dataframe\">\n",
       "  <thead>\n",
       "    <tr style=\"text-align: right;\">\n",
       "      <th></th>\n",
       "      <th>Rank</th>\n",
       "      <th>Gold</th>\n",
       "      <th>Silver</th>\n",
       "      <th>Bronze</th>\n",
       "      <th>Total</th>\n",
       "      <th>Rank by Total</th>\n",
       "    </tr>\n",
       "  </thead>\n",
       "  <tbody>\n",
       "    <tr>\n",
       "      <th>count</th>\n",
       "      <td>93.000000</td>\n",
       "      <td>93.000000</td>\n",
       "      <td>93.000000</td>\n",
       "      <td>93.000000</td>\n",
       "      <td>93.000000</td>\n",
       "      <td>93.000000</td>\n",
       "    </tr>\n",
       "    <tr>\n",
       "      <th>mean</th>\n",
       "      <td>46.333333</td>\n",
       "      <td>3.655914</td>\n",
       "      <td>3.634409</td>\n",
       "      <td>4.322581</td>\n",
       "      <td>11.612903</td>\n",
       "      <td>43.494624</td>\n",
       "    </tr>\n",
       "    <tr>\n",
       "      <th>std</th>\n",
       "      <td>26.219116</td>\n",
       "      <td>7.022471</td>\n",
       "      <td>6.626339</td>\n",
       "      <td>6.210372</td>\n",
       "      <td>19.091332</td>\n",
       "      <td>24.171769</td>\n",
       "    </tr>\n",
       "    <tr>\n",
       "      <th>min</th>\n",
       "      <td>1.000000</td>\n",
       "      <td>0.000000</td>\n",
       "      <td>0.000000</td>\n",
       "      <td>0.000000</td>\n",
       "      <td>1.000000</td>\n",
       "      <td>1.000000</td>\n",
       "    </tr>\n",
       "    <tr>\n",
       "      <th>25%</th>\n",
       "      <td>24.000000</td>\n",
       "      <td>0.000000</td>\n",
       "      <td>0.000000</td>\n",
       "      <td>1.000000</td>\n",
       "      <td>2.000000</td>\n",
       "      <td>23.000000</td>\n",
       "    </tr>\n",
       "    <tr>\n",
       "      <th>50%</th>\n",
       "      <td>46.000000</td>\n",
       "      <td>1.000000</td>\n",
       "      <td>1.000000</td>\n",
       "      <td>2.000000</td>\n",
       "      <td>4.000000</td>\n",
       "      <td>47.000000</td>\n",
       "    </tr>\n",
       "    <tr>\n",
       "      <th>75%</th>\n",
       "      <td>70.000000</td>\n",
       "      <td>3.000000</td>\n",
       "      <td>4.000000</td>\n",
       "      <td>5.000000</td>\n",
       "      <td>11.000000</td>\n",
       "      <td>66.000000</td>\n",
       "    </tr>\n",
       "    <tr>\n",
       "      <th>max</th>\n",
       "      <td>86.000000</td>\n",
       "      <td>39.000000</td>\n",
       "      <td>41.000000</td>\n",
       "      <td>33.000000</td>\n",
       "      <td>113.000000</td>\n",
       "      <td>77.000000</td>\n",
       "    </tr>\n",
       "  </tbody>\n",
       "</table>\n",
       "</div>"
      ],
      "text/plain": [
       "            Rank       Gold     Silver     Bronze       Total  Rank by Total\n",
       "count  93.000000  93.000000  93.000000  93.000000   93.000000      93.000000\n",
       "mean   46.333333   3.655914   3.634409   4.322581   11.612903      43.494624\n",
       "std    26.219116   7.022471   6.626339   6.210372   19.091332      24.171769\n",
       "min     1.000000   0.000000   0.000000   0.000000    1.000000       1.000000\n",
       "25%    24.000000   0.000000   0.000000   1.000000    2.000000      23.000000\n",
       "50%    46.000000   1.000000   1.000000   2.000000    4.000000      47.000000\n",
       "75%    70.000000   3.000000   4.000000   5.000000   11.000000      66.000000\n",
       "max    86.000000  39.000000  41.000000  33.000000  113.000000      77.000000"
      ]
     },
     "execution_count": 10,
     "metadata": {},
     "output_type": "execute_result"
    }
   ],
   "source": [
    "data.describe()"
   ]
  },
  {
   "cell_type": "markdown",
   "id": "2ef62ba7",
   "metadata": {},
   "source": [
    "## Estimation of Variability"
   ]
  },
  {
   "cell_type": "markdown",
   "id": "72d4c095",
   "metadata": {},
   "source": [
    "Variability is the heart of statistics and where a lot of information on a dataset can be gleaned.\n",
    "\n",
    "**********************Deviations:********************** The difference between observed values and the estimate of location. Also called Errors or Residuals."
   ]
  },
  {
   "cell_type": "markdown",
   "id": "3e412dd7",
   "metadata": {},
   "source": [
    "**Variance**: Square the deviations, from the mean, divide by n-1 where n is the number of instances."
   ]
  },
  {
   "cell_type": "code",
   "execution_count": 11,
   "id": "5ad43cbf",
   "metadata": {},
   "outputs": [
    {
     "data": {
      "text/plain": [
       "49.315100514259"
      ]
     },
     "execution_count": 11,
     "metadata": {},
     "output_type": "execute_result"
    }
   ],
   "source": [
    "# Variance\n",
    "\n",
    "from statistics import variance\n",
    "variance(data['Gold'])"
   ]
  },
  {
   "cell_type": "markdown",
   "id": "ae0005f1",
   "metadata": {},
   "source": [
    "**Standard Deviation** : Square root of the variance"
   ]
  },
  {
   "cell_type": "code",
   "execution_count": 12,
   "id": "74aecc35",
   "metadata": {},
   "outputs": [
    {
     "data": {
      "text/plain": [
       "7.022471111671375"
      ]
     },
     "execution_count": 12,
     "metadata": {},
     "output_type": "execute_result"
    }
   ],
   "source": [
    "# Standard Deviation \n",
    "\n",
    "from statistics import stdev\n",
    "stdev(data['Gold'])"
   ]
  },
  {
   "cell_type": "markdown",
   "id": "0febfea5",
   "metadata": {},
   "source": [
    "**Mean Absolute Deviation**: Mean of the absolute values of the deviations from the mean, also known as l1-norm or Manhattan Norm"
   ]
  },
  {
   "cell_type": "code",
   "execution_count": 13,
   "id": "135e4cd6",
   "metadata": {},
   "outputs": [
    {
     "data": {
      "text/plain": [
       "4.0048560527228565"
      ]
     },
     "execution_count": 13,
     "metadata": {},
     "output_type": "execute_result"
    }
   ],
   "source": [
    "from numpy import mean, absolute\n",
    "\n",
    "mean(absolute(data['Gold']-mean(data['Gold'])))"
   ]
  },
  {
   "cell_type": "markdown",
   "id": "d25742e6",
   "metadata": {},
   "source": [
    "**Mean Absolute deviation from Median**: Mean of the absolute values of the deviations from the median."
   ]
  },
  {
   "cell_type": "code",
   "execution_count": 14,
   "id": "76412ba4",
   "metadata": {},
   "outputs": [
    {
     "data": {
      "text/plain": [
       "3.2580645161290325"
      ]
     },
     "execution_count": 14,
     "metadata": {},
     "output_type": "execute_result"
    }
   ],
   "source": [
    "from numpy import mean, median\n",
    "\n",
    "mean(absolute(data['Gold']-median(data['Gold'])))"
   ]
  },
  {
   "cell_type": "code",
   "execution_count": 15,
   "id": "b318f439",
   "metadata": {},
   "outputs": [
    {
     "data": {
      "text/plain": [
       "3.0"
      ]
     },
     "execution_count": 15,
     "metadata": {},
     "output_type": "execute_result"
    }
   ],
   "source": [
    "# Interquartile Range:\n",
    "q3,q1 = np.percentile(data['Gold'],[75,25])\n",
    "iqr = q3- q1\n",
    "iqr"
   ]
  },
  {
   "cell_type": "markdown",
   "id": "0999a5cf",
   "metadata": {},
   "source": [
    "## Exploring the Data Distribution"
   ]
  },
  {
   "cell_type": "code",
   "execution_count": 16,
   "id": "3364ffa7",
   "metadata": {},
   "outputs": [
    {
     "data": {
      "image/png": "[encoded data removed]",
      "text/plain": [
       "<Figure size 640x480 with 1 Axes>"
      ]
     },
     "metadata": {},
     "output_type": "display_data"
    }
   ],
   "source": [
    "import pandas as pd\n",
    "import matplotlib.pyplot as plt\n",
    "\n",
    "# Assuming 'data' is your DataFrame with the 'Gold' column\n",
    "data.boxplot(column='Gold', by=None, ax=None)\n",
    "\n",
    "# Optionally, add labels and title to the plot\n",
    "plt.xlabel('Gold Medals')\n",
    "plt.ylabel('Values')\n",
    "plt.title('Box Plot for Gold Medals')\n",
    "\n",
    "# Display the plot\n",
    "plt.show()\n"
   ]
  },
  {
   "cell_type": "code",
   "execution_count": 17,
   "id": "40b2e6f9",
   "metadata": {},
   "outputs": [
    {
     "data": {
      "text/plain": [
       "0      (35.1, 39.0]\n",
       "1      (35.1, 39.0]\n",
       "2      (23.4, 27.3]\n",
       "3      (19.5, 23.4]\n",
       "4      (19.5, 23.4]\n",
       "          ...      \n",
       "88    (-0.039, 3.9]\n",
       "89    (-0.039, 3.9]\n",
       "90    (-0.039, 3.9]\n",
       "91    (-0.039, 3.9]\n",
       "92    (-0.039, 3.9]\n",
       "Name: Gold, Length: 93, dtype: category\n",
       "Categories (10, interval[float64, right]): [(-0.039, 3.9] < (3.9, 7.8] < (7.8, 11.7] < (11.7, 15.6] ... (23.4, 27.3] < (27.3, 31.2] < (31.2, 35.1] < (35.1, 39.0]]"
      ]
     },
     "execution_count": 17,
     "metadata": {},
     "output_type": "execute_result"
    }
   ],
   "source": [
    "pd.cut(data[\"Gold\"],10)"
   ]
  },
  {
   "cell_type": "code",
   "execution_count": 18,
   "id": "6127d0ac",
   "metadata": {},
   "outputs": [
    {
     "data": {
      "text/html": [
       "<div>\n",
       "<style scoped>\n",
       "    .dataframe tbody tr th:only-of-type {\n",
       "        vertical-align: middle;\n",
       "    }\n",
       "\n",
       "    .dataframe tbody tr th {\n",
       "        vertical-align: top;\n",
       "    }\n",
       "\n",
       "    .dataframe thead th {\n",
       "        text-align: right;\n",
       "    }\n",
       "</style>\n",
       "<table border=\"1\" class=\"dataframe\">\n",
       "  <thead>\n",
       "    <tr style=\"text-align: right;\">\n",
       "      <th></th>\n",
       "      <th>freq</th>\n",
       "      <th>Rank</th>\n",
       "    </tr>\n",
       "  </thead>\n",
       "  <tbody>\n",
       "    <tr>\n",
       "      <th>0</th>\n",
       "      <td>(-0.039, 3.9]</td>\n",
       "      <td>72</td>\n",
       "    </tr>\n",
       "    <tr>\n",
       "      <th>1</th>\n",
       "      <td>(3.9, 7.8]</td>\n",
       "      <td>11</td>\n",
       "    </tr>\n",
       "    <tr>\n",
       "      <th>2</th>\n",
       "      <td>(7.8, 11.7]</td>\n",
       "      <td>4</td>\n",
       "    </tr>\n",
       "    <tr>\n",
       "      <th>3</th>\n",
       "      <td>(11.7, 15.6]</td>\n",
       "      <td>0</td>\n",
       "    </tr>\n",
       "    <tr>\n",
       "      <th>4</th>\n",
       "      <td>(15.6, 19.5]</td>\n",
       "      <td>1</td>\n",
       "    </tr>\n",
       "    <tr>\n",
       "      <th>5</th>\n",
       "      <td>(19.5, 23.4]</td>\n",
       "      <td>2</td>\n",
       "    </tr>\n",
       "    <tr>\n",
       "      <th>6</th>\n",
       "      <td>(23.4, 27.3]</td>\n",
       "      <td>1</td>\n",
       "    </tr>\n",
       "    <tr>\n",
       "      <th>7</th>\n",
       "      <td>(27.3, 31.2]</td>\n",
       "      <td>0</td>\n",
       "    </tr>\n",
       "    <tr>\n",
       "      <th>8</th>\n",
       "      <td>(31.2, 35.1]</td>\n",
       "      <td>0</td>\n",
       "    </tr>\n",
       "    <tr>\n",
       "      <th>9</th>\n",
       "      <td>(35.1, 39.0]</td>\n",
       "      <td>2</td>\n",
       "    </tr>\n",
       "  </tbody>\n",
       "</table>\n",
       "</div>"
      ],
      "text/plain": [
       "            freq  Rank\n",
       "0  (-0.039, 3.9]    72\n",
       "1     (3.9, 7.8]    11\n",
       "2    (7.8, 11.7]     4\n",
       "3   (11.7, 15.6]     0\n",
       "4   (15.6, 19.5]     1\n",
       "5   (19.5, 23.4]     2\n",
       "6   (23.4, 27.3]     1\n",
       "7   (27.3, 31.2]     0\n",
       "8   (31.2, 35.1]     0\n",
       "9   (35.1, 39.0]     2"
      ]
     },
     "execution_count": 18,
     "metadata": {},
     "output_type": "execute_result"
    }
   ],
   "source": [
    "frequency_table= data.copy()\n",
    "frequency_table[\"freq\"]=pd.cut(data[\"Gold\"],10)\n",
    "frequency_table.groupby(\"freq\")[\"Rank\"].count().reset_index()"
   ]
  },
  {
   "cell_type": "code",
   "execution_count": 19,
   "id": "cdff2a29",
   "metadata": {},
   "outputs": [
    {
     "data": {
      "image/png": "[encoded data removed]",
      "text/plain": [
       "<Figure size 640x480 with 1 Axes>"
      ]
     },
     "metadata": {},
     "output_type": "display_data"
    }
   ],
   "source": [
    "import matplotlib.pyplot as plt\n",
    "\n",
    "plt.hist(x=data[\"Gold\"],bins=5,alpha=0.7, rwidth=0.85)\n",
    "plt.show()"
   ]
  },
  {
   "cell_type": "code",
   "execution_count": 24,
   "id": "2ef3b385",
   "metadata": {},
   "outputs": [
    {
     "data": {
      "image/png": "[encoded data removed]",
      "text/plain": [
       "<Figure size 640x480 with 1 Axes>"
      ]
     },
     "metadata": {},
     "output_type": "display_data"
    }
   ],
   "source": [
    "ax=data['Gold'].plot.hist(density=True,xlim=[0,12],bins=range(1,12))\n",
    "data['Gold'].plot.density(ax=ax)\n",
    "plt.show()"
   ]
  },
  {
   "cell_type": "code",
   "execution_count": null,
   "id": "02cb9ca2",
   "metadata": {},
   "outputs": [],
   "source": []
  }
 ],
 "metadata": {
  "kernelspec": {
   "display_name": "Python 3 (ipykernel)",
   "language": "python",
   "name": "python3"
  },
  "language_info": {
   "codemirror_mode": {
    "name": "ipython",
    "version": 3
   },
   "file_extension": ".py",
   "mimetype": "text/x-python",
   "name": "python",
   "nbconvert_exporter": "python",
   "pygments_lexer": "ipython3",
   "version": "3.11.2"
  }
 },
 "nbformat": 4,
 "nbformat_minor": 5
}
